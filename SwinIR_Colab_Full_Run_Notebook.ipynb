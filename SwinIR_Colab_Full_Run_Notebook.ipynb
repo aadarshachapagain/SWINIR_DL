{
  "cells": [
    {
      "cell_type": "markdown",
      "id": "ebca14eb",
      "metadata": {
        "id": "ebca14eb"
      },
      "source": [
        "# SwinIR Denoising Project\n"
      ]
    },
    {
      "cell_type": "code",
      "execution_count": null,
      "id": "dbcfd80e",
      "metadata": {
        "colab": {
          "base_uri": "https://localhost:8080/"
        },
        "id": "dbcfd80e",
        "outputId": "a7e65539-9bc4-40dd-c986-1280b62b58f5"
      },
      "outputs": [
        {
          "output_type": "stream",
          "name": "stdout",
          "text": [
            "Mounted at /content/drive\n"
          ]
        }
      ],
      "source": [
        "from google.colab import drive\n",
        "drive.mount('/content/drive')"
      ]
    },
    {
      "cell_type": "code",
      "execution_count": null,
      "id": "f8a0aad4",
      "metadata": {
        "colab": {
          "base_uri": "https://localhost:8080/"
        },
        "id": "f8a0aad4",
        "outputId": "d7c656ee-c81c-4ddd-d769-af3b23412d0e"
      },
      "outputs": [
        {
          "output_type": "stream",
          "name": "stdout",
          "text": [
            "/content/drive/MyDrive/Courses/Ryerson/8013/swinir_denoising_colab\n"
          ]
        }
      ],
      "source": [
        "# 🔄 Update to your actual path\n",
        "%cd /content/drive/MyDrive/Courses/Ryerson/8013/swinir_denoising_colab"
      ]
    },
    {
      "cell_type": "code",
      "source": [
        "import importlib\n",
        "import models.swinir_arch\n",
        "importlib.reload(models.swinir_arch)\n",
        "\n",
        "from models.swinir_arch import SwinIR"
      ],
      "metadata": {
        "id": "vVKyhIsdSIM1",
        "colab": {
          "base_uri": "https://localhost:8080/"
        },
        "outputId": "f93975e0-0719-4841-f5c6-dd724e51cf22"
      },
      "id": "vVKyhIsdSIM1",
      "execution_count": null,
      "outputs": [
        {
          "output_type": "stream",
          "name": "stderr",
          "text": [
            "/usr/local/lib/python3.11/dist-packages/timm/models/layers/__init__.py:48: FutureWarning: Importing from timm.models.layers is deprecated, please import via timm.layers\n",
            "  warnings.warn(f\"Importing from {__name__} is deprecated, please import via timm.layers\", FutureWarning)\n"
          ]
        }
      ]
    },
    {
      "cell_type": "code",
      "source": [
        "!rm -r models/__pycache__ scripts/__pycache__"
      ],
      "metadata": {
        "id": "CRw7Jl_HbugV"
      },
      "id": "CRw7Jl_HbugV",
      "execution_count": null,
      "outputs": []
    },
    {
      "cell_type": "markdown",
      "id": "ac648519",
      "metadata": {
        "id": "ac648519"
      },
      "source": [
        "## Generate Noisy Test Images"
      ]
    },
    {
      "cell_type": "code",
      "execution_count": null,
      "id": "19cc679d",
      "metadata": {
        "id": "19cc679d"
      },
      "outputs": [],
      "source": [
        "########### Already Generated ##################\n",
        "from PIL import Image\n",
        "import os\n",
        "import torch\n",
        "from torchvision import transforms\n",
        "\n",
        "def add_noise_to_dataset(image_dir, output_dir, sigma, rgb=False):\n",
        "    os.makedirs(output_dir, exist_ok=True)\n",
        "    mode = \"RGB\" if rgb else \"L\"\n",
        "\n",
        "    for fname in os.listdir(image_dir):\n",
        "        img = Image.open(os.path.join(image_dir, fname)).convert(mode)\n",
        "        img_tensor = transforms.ToTensor()(img)\n",
        "        noise = torch.randn_like(img_tensor) * (sigma / 255.0)\n",
        "        noisy = img_tensor + noise\n",
        "        noisy_img = transforms.ToPILImage()(noisy.clamp(0., 1.))\n",
        "        noisy_img.save(os.path.join(output_dir, fname))\n",
        "\n",
        "# Grayscale\n",
        "for sigma in [15, 25, 35, 50]:\n",
        "    add_noise_to_dataset(\"datasets/BSD68/grayscale\", f\"datasets/BSD68/noisy_gray_sigma{sigma}\", sigma, rgb=False)\n",
        "    add_noise_to_dataset(\"datasets/Test12/images\", f\"datasets/Test12/noisy_gray_sigma{sigma}\", sigma, rgb=False)\n",
        "\n",
        "# RGB\n",
        "for sigma in [35, 45]:\n",
        "    add_noise_to_dataset(\"datasets/BSD68/rgb\", f\"datasets/BSD68/noisy_rgb_sigma{sigma}\", sigma, rgb=True)"
      ]
    },
    {
      "cell_type": "markdown",
      "id": "833af7cc",
      "metadata": {
        "id": "833af7cc"
      },
      "source": [
        "## Training"
      ]
    },
    {
      "cell_type": "code",
      "source": [
        "from scripts.train import train_known_noise"
      ],
      "metadata": {
        "id": "Lgca9G_waal8"
      },
      "id": "Lgca9G_waal8",
      "execution_count": null,
      "outputs": []
    },
    {
      "cell_type": "markdown",
      "source": [
        "Grayscale Known"
      ],
      "metadata": {
        "id": "VygEqRhds-08"
      },
      "id": "VygEqRhds-08"
    },
    {
      "cell_type": "code",
      "execution_count": null,
      "id": "1a5c6088",
      "metadata": {
        "id": "1a5c6088",
        "collapsed": true,
        "colab": {
          "base_uri": "https://localhost:8080/"
        },
        "outputId": "d27d2b03-2952-474b-d611-bfd184487d21"
      },
      "outputs": [
        {
          "output_type": "stream",
          "name": "stdout",
          "text": [
            "Epoch 1 | Sigma: 15 | Color: Grayscale | Loss: 0.0495\n",
            "Epoch 2 | Sigma: 15 | Color: Grayscale | Loss: 0.0023\n",
            "Epoch 3 | Sigma: 15 | Color: Grayscale | Loss: 0.0017\n",
            "Epoch 4 | Sigma: 15 | Color: Grayscale | Loss: 0.0016\n",
            "Epoch 5 | Sigma: 15 | Color: Grayscale | Loss: 0.0016\n",
            "Epoch 6 | Sigma: 15 | Color: Grayscale | Loss: 0.0016\n",
            "Epoch 7 | Sigma: 15 | Color: Grayscale | Loss: 0.0015\n",
            "Epoch 8 | Sigma: 15 | Color: Grayscale | Loss: 0.0015\n",
            "Epoch 9 | Sigma: 15 | Color: Grayscale | Loss: 0.0015\n",
            "Epoch 10 | Sigma: 15 | Color: Grayscale | Loss: 0.0015\n",
            "Epoch 11 | Sigma: 15 | Color: Grayscale | Loss: 0.0015\n",
            "Epoch 12 | Sigma: 15 | Color: Grayscale | Loss: 0.0015\n",
            "Epoch 13 | Sigma: 15 | Color: Grayscale | Loss: 0.0015\n",
            "Epoch 14 | Sigma: 15 | Color: Grayscale | Loss: 0.0015\n",
            "Epoch 15 | Sigma: 15 | Color: Grayscale | Loss: 0.0015\n",
            "Epoch 16 | Sigma: 15 | Color: Grayscale | Loss: 0.0015\n",
            "Epoch 17 | Sigma: 15 | Color: Grayscale | Loss: 0.0014\n",
            "Epoch 18 | Sigma: 15 | Color: Grayscale | Loss: 0.0014\n",
            "Epoch 19 | Sigma: 15 | Color: Grayscale | Loss: 0.0014\n",
            "Epoch 20 | Sigma: 15 | Color: Grayscale | Loss: 0.0014\n",
            "Epoch 1 | Sigma: 25 | Color: Grayscale | Loss: 0.0697\n",
            "Epoch 2 | Sigma: 25 | Color: Grayscale | Loss: 0.0036\n",
            "Epoch 3 | Sigma: 25 | Color: Grayscale | Loss: 0.0030\n",
            "Epoch 4 | Sigma: 25 | Color: Grayscale | Loss: 0.0028\n",
            "Epoch 5 | Sigma: 25 | Color: Grayscale | Loss: 0.0028\n",
            "Epoch 6 | Sigma: 25 | Color: Grayscale | Loss: 0.0028\n",
            "Epoch 7 | Sigma: 25 | Color: Grayscale | Loss: 0.0027\n",
            "Epoch 8 | Sigma: 25 | Color: Grayscale | Loss: 0.0027\n",
            "Epoch 9 | Sigma: 25 | Color: Grayscale | Loss: 0.0027\n",
            "Epoch 10 | Sigma: 25 | Color: Grayscale | Loss: 0.0027\n",
            "Epoch 11 | Sigma: 25 | Color: Grayscale | Loss: 0.0027\n",
            "Epoch 12 | Sigma: 25 | Color: Grayscale | Loss: 0.0027\n",
            "Epoch 13 | Sigma: 25 | Color: Grayscale | Loss: 0.0027\n",
            "Epoch 14 | Sigma: 25 | Color: Grayscale | Loss: 0.0027\n",
            "Epoch 15 | Sigma: 25 | Color: Grayscale | Loss: 0.0027\n",
            "Epoch 16 | Sigma: 25 | Color: Grayscale | Loss: 0.0027\n",
            "Epoch 17 | Sigma: 25 | Color: Grayscale | Loss: 0.0026\n",
            "Epoch 18 | Sigma: 25 | Color: Grayscale | Loss: 0.0026\n",
            "Epoch 19 | Sigma: 25 | Color: Grayscale | Loss: 0.0026\n",
            "Epoch 20 | Sigma: 25 | Color: Grayscale | Loss: 0.0026\n",
            "Epoch 1 | Sigma: 50 | Color: Grayscale | Loss: 0.0610\n",
            "Epoch 2 | Sigma: 50 | Color: Grayscale | Loss: 0.0053\n",
            "Epoch 3 | Sigma: 50 | Color: Grayscale | Loss: 0.0050\n",
            "Epoch 4 | Sigma: 50 | Color: Grayscale | Loss: 0.0050\n",
            "Epoch 5 | Sigma: 50 | Color: Grayscale | Loss: 0.0050\n",
            "Epoch 6 | Sigma: 50 | Color: Grayscale | Loss: 0.0049\n",
            "Epoch 7 | Sigma: 50 | Color: Grayscale | Loss: 0.0049\n",
            "Epoch 8 | Sigma: 50 | Color: Grayscale | Loss: 0.0049\n",
            "Epoch 9 | Sigma: 50 | Color: Grayscale | Loss: 0.0048\n",
            "Epoch 10 | Sigma: 50 | Color: Grayscale | Loss: 0.0047\n",
            "Epoch 11 | Sigma: 50 | Color: Grayscale | Loss: 0.0047\n",
            "Epoch 12 | Sigma: 50 | Color: Grayscale | Loss: 0.0047\n",
            "Epoch 13 | Sigma: 50 | Color: Grayscale | Loss: 0.0047\n",
            "Epoch 14 | Sigma: 50 | Color: Grayscale | Loss: 0.0046\n",
            "Epoch 15 | Sigma: 50 | Color: Grayscale | Loss: 0.0046\n",
            "Epoch 16 | Sigma: 50 | Color: Grayscale | Loss: 0.0044\n",
            "Epoch 17 | Sigma: 50 | Color: Grayscale | Loss: 0.0044\n",
            "Epoch 18 | Sigma: 50 | Color: Grayscale | Loss: 0.0042\n",
            "Epoch 19 | Sigma: 50 | Color: Grayscale | Loss: 0.0042\n",
            "Epoch 20 | Sigma: 50 | Color: Grayscale | Loss: 0.0040\n"
          ]
        }
      ],
      "source": [
        "for sigma in [15, 25, 50]:\n",
        "  train_known_noise(\"datasets/BSD400\", sigma=sigma, save_path=f\"checkpoints/swinir_gray_sigma{sigma}.pth\", rgb=False)"
      ]
    },
    {
      "cell_type": "markdown",
      "id": "1Ut1D9yzFk4q",
      "metadata": {
        "id": "1Ut1D9yzFk4q"
      },
      "source": [
        "RGB Known"
      ]
    },
    {
      "cell_type": "code",
      "execution_count": null,
      "id": "VmGHEG6iFpyq",
      "metadata": {
        "id": "VmGHEG6iFpyq",
        "collapsed": true,
        "colab": {
          "base_uri": "https://localhost:8080/"
        },
        "outputId": "851baeb4-078d-481c-9c53-e24180d6e530"
      },
      "outputs": [
        {
          "output_type": "stream",
          "name": "stderr",
          "text": [
            "/usr/local/lib/python3.11/dist-packages/torch/functional.py:539: UserWarning: torch.meshgrid: in an upcoming release, it will be required to pass the indexing argument. (Triggered internally at /pytorch/aten/src/ATen/native/TensorShape.cpp:3637.)\n",
            "  return _VF.meshgrid(tensors, **kwargs)  # type: ignore[attr-defined]\n"
          ]
        },
        {
          "output_type": "stream",
          "name": "stdout",
          "text": [
            "Epoch 1 | Sigma: 35 | Color: RGB | Loss: 0.0126\n",
            "Epoch 2 | Sigma: 35 | Color: RGB | Loss: 0.0030\n",
            "Epoch 3 | Sigma: 35 | Color: RGB | Loss: 0.0029\n",
            "Epoch 4 | Sigma: 35 | Color: RGB | Loss: 0.0026\n",
            "Epoch 5 | Sigma: 35 | Color: RGB | Loss: 0.0026\n",
            "Epoch 6 | Sigma: 35 | Color: RGB | Loss: 0.0023\n",
            "Epoch 7 | Sigma: 35 | Color: RGB | Loss: 0.0022\n",
            "Epoch 8 | Sigma: 35 | Color: RGB | Loss: 0.0021\n",
            "Epoch 9 | Sigma: 35 | Color: RGB | Loss: 0.0020\n",
            "Epoch 10 | Sigma: 35 | Color: RGB | Loss: 0.0020\n",
            "Epoch 11 | Sigma: 35 | Color: RGB | Loss: 0.0019\n",
            "Epoch 12 | Sigma: 35 | Color: RGB | Loss: 0.0019\n",
            "Epoch 13 | Sigma: 35 | Color: RGB | Loss: 0.0019\n",
            "Epoch 14 | Sigma: 35 | Color: RGB | Loss: 0.0018\n",
            "Epoch 15 | Sigma: 35 | Color: RGB | Loss: 0.0018\n",
            "Epoch 16 | Sigma: 35 | Color: RGB | Loss: 0.0018\n",
            "Epoch 17 | Sigma: 35 | Color: RGB | Loss: 0.0018\n",
            "Epoch 18 | Sigma: 35 | Color: RGB | Loss: 0.0017\n",
            "Epoch 19 | Sigma: 35 | Color: RGB | Loss: 0.0017\n",
            "Epoch 20 | Sigma: 35 | Color: RGB | Loss: 0.0017\n",
            "Epoch 1 | Sigma: 45 | Color: RGB | Loss: 0.0134\n",
            "Epoch 2 | Sigma: 45 | Color: RGB | Loss: 0.0036\n",
            "Epoch 3 | Sigma: 45 | Color: RGB | Loss: 0.0034\n",
            "Epoch 4 | Sigma: 45 | Color: RGB | Loss: 0.0034\n",
            "Epoch 5 | Sigma: 45 | Color: RGB | Loss: 0.0033\n",
            "Epoch 6 | Sigma: 45 | Color: RGB | Loss: 0.0032\n",
            "Epoch 7 | Sigma: 45 | Color: RGB | Loss: 0.0029\n",
            "Epoch 8 | Sigma: 45 | Color: RGB | Loss: 0.0028\n",
            "Epoch 9 | Sigma: 45 | Color: RGB | Loss: 0.0027\n",
            "Epoch 10 | Sigma: 45 | Color: RGB | Loss: 0.0026\n",
            "Epoch 11 | Sigma: 45 | Color: RGB | Loss: 0.0025\n",
            "Epoch 12 | Sigma: 45 | Color: RGB | Loss: 0.0025\n",
            "Epoch 13 | Sigma: 45 | Color: RGB | Loss: 0.0024\n",
            "Epoch 14 | Sigma: 45 | Color: RGB | Loss: 0.0024\n",
            "Epoch 15 | Sigma: 45 | Color: RGB | Loss: 0.0023\n",
            "Epoch 16 | Sigma: 45 | Color: RGB | Loss: 0.0023\n",
            "Epoch 17 | Sigma: 45 | Color: RGB | Loss: 0.0024\n",
            "Epoch 18 | Sigma: 45 | Color: RGB | Loss: 0.0023\n",
            "Epoch 19 | Sigma: 45 | Color: RGB | Loss: 0.0023\n",
            "Epoch 20 | Sigma: 45 | Color: RGB | Loss: 0.0022\n"
          ]
        }
      ],
      "source": [
        "for sigma in [35, 45]:\n",
        "  train_known_noise(\"datasets/BSD500_RGB\", sigma=sigma, save_path=f\"checkpoints/swinir_rgb_sigma{sigma}.pth\", rgb=True)"
      ]
    },
    {
      "cell_type": "markdown",
      "id": "RnaAQZ9dFvM8",
      "metadata": {
        "id": "RnaAQZ9dFvM8"
      },
      "source": [
        "Blind (only grayscale)"
      ]
    },
    {
      "cell_type": "code",
      "execution_count": null,
      "id": "APxqiU_FFzei",
      "metadata": {
        "id": "APxqiU_FFzei",
        "colab": {
          "base_uri": "https://localhost:8080/"
        },
        "outputId": "b82f1f36-9741-4942-c445-24db1de6cfcb"
      },
      "outputs": [
        {
          "output_type": "stream",
          "name": "stderr",
          "text": [
            "/usr/local/lib/python3.11/dist-packages/torch/functional.py:539: UserWarning: torch.meshgrid: in an upcoming release, it will be required to pass the indexing argument. (Triggered internally at /pytorch/aten/src/ATen/native/TensorShape.cpp:3637.)\n",
            "  return _VF.meshgrid(tensors, **kwargs)  # type: ignore[attr-defined]\n",
            "Blind Epoch 1 | Color: Grayscale: 100%|██████████| 16000/16000 [25:57<00:00, 10.27it/s, loss=0.00123]\n"
          ]
        },
        {
          "output_type": "stream",
          "name": "stdout",
          "text": [
            "Finished Epoch 1 | Avg Loss: 0.0028\n"
          ]
        },
        {
          "output_type": "stream",
          "name": "stderr",
          "text": [
            "Blind Epoch 2 | Color: Grayscale: 100%|██████████| 16000/16000 [25:57<00:00, 10.27it/s, loss=0.00281]\n"
          ]
        },
        {
          "output_type": "stream",
          "name": "stdout",
          "text": [
            "Finished Epoch 2 | Avg Loss: 0.0020\n"
          ]
        },
        {
          "output_type": "stream",
          "name": "stderr",
          "text": [
            "Blind Epoch 3 | Color: Grayscale: 100%|██████████| 16000/16000 [25:58<00:00, 10.26it/s, loss=0.000748]\n"
          ]
        },
        {
          "output_type": "stream",
          "name": "stdout",
          "text": [
            "Finished Epoch 3 | Avg Loss: 0.0019\n"
          ]
        },
        {
          "output_type": "stream",
          "name": "stderr",
          "text": [
            "Blind Epoch 4 | Color: Grayscale: 100%|██████████| 16000/16000 [25:56<00:00, 10.28it/s, loss=0.00121]\n"
          ]
        },
        {
          "output_type": "stream",
          "name": "stdout",
          "text": [
            "Finished Epoch 4 | Avg Loss: 0.0019\n"
          ]
        },
        {
          "output_type": "stream",
          "name": "stderr",
          "text": [
            "Blind Epoch 5 | Color: Grayscale: 100%|██████████| 16000/16000 [25:52<00:00, 10.30it/s, loss=0.000608]\n"
          ]
        },
        {
          "output_type": "stream",
          "name": "stdout",
          "text": [
            "Finished Epoch 5 | Avg Loss: 0.0019\n"
          ]
        }
      ],
      "source": [
        "from scripts.train import train_blind_noise\n",
        "\n",
        "train_blind_noise(\"datasets/BSD400\", save_path=\"checkpoints/swinir_gray_blind.pth\", rgb=False)"
      ]
    },
    {
      "cell_type": "markdown",
      "id": "2ddd48c5",
      "metadata": {
        "id": "2ddd48c5"
      },
      "source": [
        "## Evaluate on Test12"
      ]
    },
    {
      "cell_type": "markdown",
      "source": [
        "Known"
      ],
      "metadata": {
        "id": "OwaD4z7IqZbG"
      },
      "id": "OwaD4z7IqZbG"
    },
    {
      "cell_type": "code",
      "source": [
        "from scripts.evaluate import evaluate_model"
      ],
      "metadata": {
        "id": "wq60jk2h86Fa"
      },
      "id": "wq60jk2h86Fa",
      "execution_count": null,
      "outputs": []
    },
    {
      "cell_type": "code",
      "execution_count": null,
      "id": "36d54032",
      "metadata": {
        "id": "36d54032",
        "colab": {
          "base_uri": "https://localhost:8080/"
        },
        "outputId": "b99e6296-89da-4afe-bfb0-af339df5ca59"
      },
      "outputs": [
        {
          "output_type": "stream",
          "name": "stdout",
          "text": [
            "01.png - PSNR: 28.24 dB\n",
            "02.png - PSNR: 29.20 dB\n",
            "03.png - PSNR: 28.21 dB\n",
            "04.png - PSNR: 28.38 dB\n",
            "05.png - PSNR: 28.48 dB\n",
            "06.png - PSNR: 27.17 dB\n",
            "07.png - PSNR: 28.26 dB\n",
            "08.png - PSNR: 29.59 dB\n",
            "09.png - PSNR: 27.58 dB\n",
            "10.png - PSNR: 28.78 dB\n",
            "11.png - PSNR: 29.27 dB\n",
            "12.png - PSNR: 28.87 dB\n",
            "\n",
            "Average PSNR across all images: 28.50 dB\n",
            "01.png - PSNR: 25.69 dB\n",
            "02.png - PSNR: 27.48 dB\n",
            "03.png - PSNR: 26.04 dB\n",
            "04.png - PSNR: 26.40 dB\n",
            "05.png - PSNR: 26.17 dB\n",
            "06.png - PSNR: 25.47 dB\n",
            "07.png - PSNR: 25.75 dB\n",
            "08.png - PSNR: 27.58 dB\n",
            "09.png - PSNR: 25.05 dB\n",
            "10.png - PSNR: 26.90 dB\n",
            "11.png - PSNR: 27.15 dB\n",
            "12.png - PSNR: 26.76 dB\n",
            "\n",
            "Average PSNR across all images: 26.37 dB\n",
            "01.png - PSNR: 24.03 dB\n",
            "02.png - PSNR: 26.25 dB\n",
            "03.png - PSNR: 24.16 dB\n",
            "04.png - PSNR: 23.76 dB\n",
            "05.png - PSNR: 24.36 dB\n",
            "06.png - PSNR: 23.46 dB\n",
            "07.png - PSNR: 24.04 dB\n",
            "08.png - PSNR: 26.89 dB\n",
            "09.png - PSNR: 23.61 dB\n",
            "10.png - PSNR: 25.28 dB\n",
            "11.png - PSNR: 25.70 dB\n",
            "12.png - PSNR: 24.92 dB\n",
            "\n",
            "Average PSNR across all images: 24.70 dB\n"
          ]
        }
      ],
      "source": [
        "for sigma in [15, 25, 50]:\n",
        "  evaluate_model(\n",
        "      model_path=f\"checkpoints/swinir_gray_sigma{sigma}.pth\",\n",
        "      clean_dir=\"datasets/Test12/images\",\n",
        "      noisy_dir=f\"datasets/Test12/noisy_gray_sigma{sigma}\",\n",
        "      output_dir=f\"results/images/gray_test12_sigma{sigma}\",\n",
        "      rgb=False\n",
        "  )"
      ]
    },
    {
      "cell_type": "markdown",
      "source": [
        "Blind"
      ],
      "metadata": {
        "id": "V2E2EC9N5oWH"
      },
      "id": "V2E2EC9N5oWH"
    },
    {
      "cell_type": "code",
      "source": [
        "for sigma in [15, 25, 50]:\n",
        "  evaluate_model(\n",
        "    model_path=\"checkpoints/swinir_gray_blind.pth\",\n",
        "    clean_dir=\"datasets/Test12/images\",\n",
        "    noisy_dir=f\"datasets/Test12/noisy_gray_sigma{sigma}\",\n",
        "    output_dir=f\"results/images/blind_gray_test12_sigma{sigma}\",\n",
        "    rgb=False\n",
        "  )"
      ],
      "metadata": {
        "id": "Aj3kC0hI5tCO",
        "colab": {
          "base_uri": "https://localhost:8080/"
        },
        "outputId": "27e6cc27-361f-4201-91cd-6f525c694fd2"
      },
      "id": "Aj3kC0hI5tCO",
      "execution_count": null,
      "outputs": [
        {
          "output_type": "stream",
          "name": "stdout",
          "text": [
            "01.png - PSNR: 31.61 dB\n",
            "02.png - PSNR: 34.56 dB\n",
            "03.png - PSNR: 32.70 dB\n",
            "04.png - PSNR: 31.65 dB\n",
            "05.png - PSNR: 32.61 dB\n",
            "06.png - PSNR: 31.13 dB\n",
            "07.png - PSNR: 31.29 dB\n",
            "08.png - PSNR: 34.16 dB\n",
            "09.png - PSNR: 31.96 dB\n",
            "10.png - PSNR: 31.98 dB\n",
            "11.png - PSNR: 32.06 dB\n",
            "12.png - PSNR: 31.97 dB\n",
            "\n",
            "Average PSNR across all images: 32.31 dB\n",
            "01.png - PSNR: 29.41 dB\n",
            "02.png - PSNR: 32.65 dB\n",
            "03.png - PSNR: 30.26 dB\n",
            "04.png - PSNR: 28.80 dB\n",
            "05.png - PSNR: 30.03 dB\n",
            "06.png - PSNR: 28.72 dB\n",
            "07.png - PSNR: 29.12 dB\n",
            "08.png - PSNR: 32.09 dB\n",
            "09.png - PSNR: 29.34 dB\n",
            "10.png - PSNR: 29.83 dB\n",
            "11.png - PSNR: 29.78 dB\n",
            "12.png - PSNR: 29.61 dB\n",
            "\n",
            "Average PSNR across all images: 29.97 dB\n",
            "01.png - PSNR: 26.46 dB\n",
            "02.png - PSNR: 29.46 dB\n",
            "03.png - PSNR: 26.69 dB\n",
            "04.png - PSNR: 25.10 dB\n",
            "05.png - PSNR: 26.53 dB\n",
            "06.png - PSNR: 25.48 dB\n",
            "07.png - PSNR: 26.21 dB\n",
            "08.png - PSNR: 28.95 dB\n",
            "09.png - PSNR: 25.98 dB\n",
            "10.png - PSNR: 26.76 dB\n",
            "11.png - PSNR: 26.86 dB\n",
            "12.png - PSNR: 26.32 dB\n",
            "\n",
            "Average PSNR across all images: 26.73 dB\n"
          ]
        }
      ]
    },
    {
      "cell_type": "markdown",
      "source": [
        "## Evaluate on BSD68"
      ],
      "metadata": {
        "id": "PZ6BHJrtsS6C"
      },
      "id": "PZ6BHJrtsS6C"
    },
    {
      "cell_type": "markdown",
      "source": [
        "Grayscale (Known)"
      ],
      "metadata": {
        "id": "0pmxCzCpsmJ0"
      },
      "id": "0pmxCzCpsmJ0"
    },
    {
      "cell_type": "code",
      "source": [
        "for sigma in [15, 25, 50]:\n",
        "  evaluate_model(\n",
        "    model_path=f\"checkpoints/swinir_gray_sigma{sigma}.pth\",\n",
        "    clean_dir=\"datasets/BSD68/grayscale\",\n",
        "    noisy_dir=f\"datasets/BSD68/noisy_gray_sigma{sigma}\",\n",
        "    output_dir=f\"results/images/gray_bsd68_sigma{sigma}\",\n",
        "    rgb=False\n",
        "  )"
      ],
      "metadata": {
        "id": "wkWR0LD9sVRv",
        "colab": {
          "base_uri": "https://localhost:8080/"
        },
        "outputId": "8d8cab33-76b2-462f-fed1-849cf319b9c3"
      },
      "id": "wkWR0LD9sVRv",
      "execution_count": null,
      "outputs": [
        {
          "output_type": "stream",
          "name": "stdout",
          "text": [
            "test001.png - PSNR: 27.22 dB\n",
            "test002.png - PSNR: 29.47 dB\n",
            "test003.png - PSNR: 28.91 dB\n",
            "test004.png - PSNR: 30.18 dB\n",
            "test005.png - PSNR: 27.99 dB\n",
            "test006.png - PSNR: 29.37 dB\n",
            "test007.png - PSNR: 29.26 dB\n",
            "test008.png - PSNR: 27.79 dB\n",
            "test009.png - PSNR: 29.60 dB\n",
            "test010.png - PSNR: 29.74 dB\n",
            "test011.png - PSNR: 28.03 dB\n",
            "test012.png - PSNR: 29.43 dB\n",
            "test013.png - PSNR: 29.60 dB\n",
            "test014.png - PSNR: 29.88 dB\n",
            "test015.png - PSNR: 28.42 dB\n",
            "test016.png - PSNR: 28.34 dB\n",
            "test017.png - PSNR: 31.15 dB\n",
            "test018.png - PSNR: 30.61 dB\n",
            "test019.png - PSNR: 28.09 dB\n",
            "test020.png - PSNR: 28.42 dB\n",
            "test021.png - PSNR: 26.85 dB\n",
            "test022.png - PSNR: 27.96 dB\n",
            "test023.png - PSNR: 28.07 dB\n",
            "test024.png - PSNR: 29.10 dB\n",
            "test025.png - PSNR: 29.52 dB\n",
            "test026.png - PSNR: 29.00 dB\n",
            "test027.png - PSNR: 30.04 dB\n",
            "test028.png - PSNR: 31.85 dB\n",
            "test029.png - PSNR: 25.47 dB\n",
            "test030.png - PSNR: 29.67 dB\n",
            "test031.png - PSNR: 25.94 dB\n",
            "test032.png - PSNR: 28.12 dB\n",
            "test033.png - PSNR: 27.85 dB\n",
            "test034.png - PSNR: 29.60 dB\n",
            "test035.png - PSNR: 28.93 dB\n",
            "test036.png - PSNR: 27.97 dB\n",
            "test037.png - PSNR: 28.31 dB\n",
            "test038.png - PSNR: 29.51 dB\n",
            "test039.png - PSNR: 30.29 dB\n",
            "test040.png - PSNR: 28.94 dB\n",
            "test041.png - PSNR: 28.29 dB\n",
            "test042.png - PSNR: 28.90 dB\n",
            "test043.png - PSNR: 29.74 dB\n",
            "test044.png - PSNR: 27.03 dB\n",
            "test045.png - PSNR: 30.40 dB\n",
            "test046.png - PSNR: 27.39 dB\n",
            "test047.png - PSNR: 28.05 dB\n",
            "test048.png - PSNR: 28.98 dB\n",
            "test049.png - PSNR: 30.22 dB\n",
            "test050.png - PSNR: 27.60 dB\n",
            "test051.png - PSNR: 28.07 dB\n",
            "test052.png - PSNR: 29.56 dB\n",
            "test053.png - PSNR: 29.03 dB\n",
            "test054.png - PSNR: 28.70 dB\n",
            "test055.png - PSNR: 28.48 dB\n",
            "test056.png - PSNR: 25.43 dB\n",
            "test057.png - PSNR: 28.90 dB\n",
            "test058.png - PSNR: 29.59 dB\n",
            "test059.png - PSNR: 29.60 dB\n",
            "test060.png - PSNR: 30.04 dB\n",
            "test061.png - PSNR: 29.65 dB\n",
            "test062.png - PSNR: 30.98 dB\n",
            "test063.png - PSNR: 27.90 dB\n",
            "test064.png - PSNR: 28.02 dB\n",
            "test065.png - PSNR: 29.76 dB\n",
            "test066.png - PSNR: 30.79 dB\n",
            "test067.png - PSNR: 26.41 dB\n",
            "test068.png - PSNR: 27.16 dB\n",
            "\n",
            "Average PSNR across all images: 28.81 dB\n",
            "test001.png - PSNR: 24.71 dB\n",
            "test002.png - PSNR: 26.77 dB\n",
            "test003.png - PSNR: 26.35 dB\n",
            "test004.png - PSNR: 27.61 dB\n",
            "test005.png - PSNR: 26.14 dB\n",
            "test006.png - PSNR: 28.18 dB\n",
            "test007.png - PSNR: 26.52 dB\n",
            "test008.png - PSNR: 24.70 dB\n",
            "test009.png - PSNR: 27.14 dB\n",
            "test010.png - PSNR: 27.26 dB\n",
            "test011.png - PSNR: 25.53 dB\n",
            "test012.png - PSNR: 26.89 dB\n",
            "test013.png - PSNR: 27.42 dB\n",
            "test014.png - PSNR: 27.25 dB\n",
            "test015.png - PSNR: 25.79 dB\n",
            "test016.png - PSNR: 25.72 dB\n",
            "test017.png - PSNR: 28.68 dB\n",
            "test018.png - PSNR: 27.97 dB\n",
            "test019.png - PSNR: 25.64 dB\n",
            "test020.png - PSNR: 25.89 dB\n",
            "test021.png - PSNR: 24.16 dB\n",
            "test022.png - PSNR: 25.46 dB\n",
            "test023.png - PSNR: 26.15 dB\n",
            "test024.png - PSNR: 26.99 dB\n",
            "test025.png - PSNR: 26.90 dB\n",
            "test026.png - PSNR: 26.80 dB\n",
            "test027.png - PSNR: 27.42 dB\n",
            "test028.png - PSNR: 28.87 dB\n",
            "test029.png - PSNR: 22.16 dB\n",
            "test030.png - PSNR: 27.31 dB\n",
            "test031.png - PSNR: 22.93 dB\n",
            "test032.png - PSNR: 25.71 dB\n",
            "test033.png - PSNR: 25.33 dB\n",
            "test034.png - PSNR: 28.28 dB\n",
            "test035.png - PSNR: 26.49 dB\n",
            "test036.png - PSNR: 26.16 dB\n",
            "test037.png - PSNR: 26.55 dB\n",
            "test038.png - PSNR: 27.13 dB\n",
            "test039.png - PSNR: 27.79 dB\n",
            "test040.png - PSNR: 26.40 dB\n",
            "test041.png - PSNR: 25.84 dB\n",
            "test042.png - PSNR: 26.37 dB\n",
            "test043.png - PSNR: 26.98 dB\n",
            "test044.png - PSNR: 24.88 dB\n",
            "test045.png - PSNR: 28.04 dB\n",
            "test046.png - PSNR: 24.55 dB\n",
            "test047.png - PSNR: 25.57 dB\n",
            "test048.png - PSNR: 26.58 dB\n",
            "test049.png - PSNR: 27.84 dB\n",
            "test050.png - PSNR: 25.58 dB\n",
            "test051.png - PSNR: 24.67 dB\n",
            "test052.png - PSNR: 27.96 dB\n",
            "test053.png - PSNR: 27.68 dB\n",
            "test054.png - PSNR: 26.71 dB\n",
            "test055.png - PSNR: 25.81 dB\n",
            "test056.png - PSNR: 22.91 dB\n",
            "test057.png - PSNR: 26.45 dB\n",
            "test058.png - PSNR: 27.56 dB\n",
            "test059.png - PSNR: 27.34 dB\n",
            "test060.png - PSNR: 27.53 dB\n",
            "test061.png - PSNR: 27.07 dB\n",
            "test062.png - PSNR: 28.73 dB\n",
            "test063.png - PSNR: 25.24 dB\n",
            "test064.png - PSNR: 25.85 dB\n",
            "test065.png - PSNR: 27.41 dB\n",
            "test066.png - PSNR: 28.27 dB\n",
            "test067.png - PSNR: 23.54 dB\n",
            "test068.png - PSNR: 24.27 dB\n",
            "\n",
            "Average PSNR across all images: 26.39 dB\n",
            "test001.png - PSNR: 22.35 dB\n",
            "test002.png - PSNR: 24.68 dB\n",
            "test003.png - PSNR: 25.11 dB\n",
            "test004.png - PSNR: 26.56 dB\n",
            "test005.png - PSNR: 23.52 dB\n",
            "test006.png - PSNR: 27.64 dB\n",
            "test007.png - PSNR: 24.40 dB\n",
            "test008.png - PSNR: 22.51 dB\n",
            "test009.png - PSNR: 24.97 dB\n",
            "test010.png - PSNR: 26.01 dB\n",
            "test011.png - PSNR: 23.10 dB\n",
            "test012.png - PSNR: 24.75 dB\n",
            "test013.png - PSNR: 25.96 dB\n",
            "test014.png - PSNR: 26.10 dB\n",
            "test015.png - PSNR: 23.61 dB\n",
            "test016.png - PSNR: 23.24 dB\n",
            "test017.png - PSNR: 27.32 dB\n",
            "test018.png - PSNR: 27.49 dB\n",
            "test019.png - PSNR: 24.06 dB\n",
            "test020.png - PSNR: 24.56 dB\n",
            "test021.png - PSNR: 21.57 dB\n",
            "test022.png - PSNR: 22.75 dB\n",
            "test023.png - PSNR: 24.24 dB\n",
            "test024.png - PSNR: 24.17 dB\n",
            "test025.png - PSNR: 25.23 dB\n",
            "test026.png - PSNR: 24.81 dB\n",
            "test027.png - PSNR: 26.02 dB\n",
            "test028.png - PSNR: 25.46 dB\n",
            "test029.png - PSNR: 20.17 dB\n",
            "test030.png - PSNR: 26.16 dB\n",
            "test031.png - PSNR: 20.52 dB\n",
            "test032.png - PSNR: 23.00 dB\n",
            "test033.png - PSNR: 23.32 dB\n",
            "test034.png - PSNR: 27.80 dB\n",
            "test035.png - PSNR: 24.52 dB\n",
            "test036.png - PSNR: 25.34 dB\n",
            "test037.png - PSNR: 25.24 dB\n",
            "test038.png - PSNR: 25.27 dB\n",
            "test039.png - PSNR: 26.93 dB\n",
            "test040.png - PSNR: 24.64 dB\n",
            "test041.png - PSNR: 23.64 dB\n",
            "test042.png - PSNR: 25.09 dB\n",
            "test043.png - PSNR: 25.20 dB\n",
            "test044.png - PSNR: 22.98 dB\n",
            "test045.png - PSNR: 28.43 dB\n",
            "test046.png - PSNR: 22.38 dB\n",
            "test047.png - PSNR: 23.25 dB\n",
            "test048.png - PSNR: 23.91 dB\n",
            "test049.png - PSNR: 26.82 dB\n",
            "test050.png - PSNR: 23.27 dB\n",
            "test051.png - PSNR: 23.55 dB\n",
            "test052.png - PSNR: 26.99 dB\n",
            "test053.png - PSNR: 27.71 dB\n",
            "test054.png - PSNR: 24.70 dB\n",
            "test055.png - PSNR: 23.72 dB\n",
            "test056.png - PSNR: 20.54 dB\n",
            "test057.png - PSNR: 25.03 dB\n",
            "test058.png - PSNR: 27.60 dB\n",
            "test059.png - PSNR: 26.71 dB\n",
            "test060.png - PSNR: 27.33 dB\n",
            "test061.png - PSNR: 26.07 dB\n",
            "test062.png - PSNR: 25.54 dB\n",
            "test063.png - PSNR: 22.64 dB\n",
            "test064.png - PSNR: 23.80 dB\n",
            "test065.png - PSNR: 24.59 dB\n",
            "test066.png - PSNR: 29.37 dB\n",
            "test067.png - PSNR: 20.90 dB\n",
            "test068.png - PSNR: 21.72 dB\n",
            "\n",
            "Average PSNR across all images: 24.68 dB\n"
          ]
        }
      ]
    },
    {
      "cell_type": "markdown",
      "source": [
        "RGB"
      ],
      "metadata": {
        "id": "nTpIU0kAssrJ"
      },
      "id": "nTpIU0kAssrJ"
    },
    {
      "cell_type": "code",
      "source": [
        "for sigma in [35, 45]:\n",
        "  evaluate_model(\n",
        "    model_path=f\"checkpoints/swinir_rgb_sigma{sigma}.pth\",\n",
        "    clean_dir=\"datasets/BSD68/rgb\",\n",
        "    noisy_dir=f\"datasets/BSD68/noisy_rgb_sigma{sigma}\",\n",
        "    output_dir=f\"results/images/rgb_bsd68_sigma{sigma}\",\n",
        "    rgb=True\n",
        "  )"
      ],
      "metadata": {
        "id": "lKKT-BuDso_g",
        "colab": {
          "base_uri": "https://localhost:8080/"
        },
        "outputId": "94ca8338-21fe-45c0-d790-7384164255b4"
      },
      "id": "lKKT-BuDso_g",
      "execution_count": null,
      "outputs": [
        {
          "output_type": "stream",
          "name": "stdout",
          "text": [
            "101085.jpg - PSNR: 24.32 dB\n",
            "101087.jpg - PSNR: 26.67 dB\n",
            "102061.jpg - PSNR: 26.09 dB\n",
            "103070.jpg - PSNR: 26.11 dB\n",
            "105025.jpg - PSNR: 25.21 dB\n",
            "106024.jpg - PSNR: 27.32 dB\n",
            "108005.jpg - PSNR: 25.24 dB\n",
            "108070.jpg - PSNR: 24.47 dB\n",
            "108082.jpg - PSNR: 25.93 dB\n",
            "109053.jpg - PSNR: 25.64 dB\n",
            "119082.jpg - PSNR: 25.63 dB\n",
            "12084.jpg - PSNR: 24.89 dB\n",
            "123074.jpg - PSNR: 25.57 dB\n",
            "126007.jpg - PSNR: 26.58 dB\n",
            "130026.jpg - PSNR: 24.98 dB\n",
            "134035.jpg - PSNR: 25.03 dB\n",
            "14037.jpg - PSNR: 28.43 dB\n",
            "143090.jpg - PSNR: 28.30 dB\n",
            "145086.jpg - PSNR: 25.68 dB\n",
            "147091.jpg - PSNR: 26.84 dB\n",
            "148026.jpg - PSNR: 24.78 dB\n",
            "148089.jpg - PSNR: 24.99 dB\n",
            "156065.jpg - PSNR: 24.56 dB\n",
            "157055.jpg - PSNR: 25.12 dB\n",
            "159008.jpg - PSNR: 26.21 dB\n",
            "160068.jpg - PSNR: 25.77 dB\n",
            "16077.jpg - PSNR: 25.31 dB\n",
            "163085.jpg - PSNR: 25.76 dB\n",
            "167062.jpg - PSNR: 30.56 dB\n",
            "167083.jpg - PSNR: 23.59 dB\n",
            "170057.jpg - PSNR: 25.58 dB\n",
            "175032.jpg - PSNR: 23.25 dB\n",
            "175043.jpg - PSNR: 24.39 dB\n",
            "182053.jpg - PSNR: 25.36 dB\n",
            "189080.jpg - PSNR: 26.93 dB\n",
            "19021.jpg - PSNR: 25.51 dB\n",
            "196073.jpg - PSNR: 24.93 dB\n",
            "197017.jpg - PSNR: 25.34 dB\n",
            "208001.jpg - PSNR: 25.68 dB\n",
            "210088.jpg - PSNR: 26.21 dB\n",
            "21077.jpg - PSNR: 25.74 dB\n",
            "216081.jpg - PSNR: 25.62 dB\n",
            "219090.jpg - PSNR: 25.71 dB\n",
            "220075.jpg - PSNR: 26.22 dB\n",
            "223061.jpg - PSNR: 24.92 dB\n",
            "227092.jpg - PSNR: 26.62 dB\n",
            "229036.jpg - PSNR: 24.41 dB\n",
            "236037.jpg - PSNR: 24.35 dB\n",
            "24077.jpg - PSNR: 25.67 dB\n",
            "241004.jpg - PSNR: 27.61 dB\n",
            "241048.jpg - PSNR: 24.99 dB\n",
            "253027.jpg - PSNR: 25.22 dB\n",
            "253055.jpg - PSNR: 27.14 dB\n",
            "260058.jpg - PSNR: 26.01 dB\n",
            "271035.jpg - PSNR: 25.33 dB\n",
            "285079.jpg - PSNR: 24.90 dB\n",
            "291000.jpg - PSNR: 23.05 dB\n",
            "295087.jpg - PSNR: 25.74 dB\n",
            "296007.jpg - PSNR: 26.22 dB\n",
            "296059.jpg - PSNR: 25.91 dB\n",
            "299086.jpg - PSNR: 26.02 dB\n",
            "300091.jpg - PSNR: 26.58 dB\n",
            "302008.jpg - PSNR: 28.78 dB\n",
            "304034.jpg - PSNR: 24.42 dB\n",
            "304074.jpg - PSNR: 24.64 dB\n",
            "306005.jpg - PSNR: 26.55 dB\n",
            "3096.jpg - PSNR: 27.56 dB\n",
            "33039.jpg - PSNR: 23.67 dB\n",
            "351093.jpg - PSNR: 24.96 dB\n",
            "361010.jpg - PSNR: 26.06 dB\n",
            "37073.jpg - PSNR: 26.16 dB\n",
            "376043.jpg - PSNR: 24.58 dB\n",
            "38082.jpg - PSNR: 25.11 dB\n",
            "38092.jpg - PSNR: 25.08 dB\n",
            "385039.jpg - PSNR: 25.15 dB\n",
            "41033.jpg - PSNR: 25.80 dB\n",
            "41069.jpg - PSNR: 23.77 dB\n",
            "42012.jpg - PSNR: 25.85 dB\n",
            "42049.jpg - PSNR: 26.68 dB\n",
            "43074.jpg - PSNR: 26.13 dB\n",
            "45096.jpg - PSNR: 29.51 dB\n",
            "54082.jpg - PSNR: 25.47 dB\n",
            "55073.jpg - PSNR: 24.19 dB\n",
            "58060.jpg - PSNR: 24.73 dB\n",
            "62096.jpg - PSNR: 26.03 dB\n",
            "65033.jpg - PSNR: 24.89 dB\n",
            "66053.jpg - PSNR: 25.25 dB\n",
            "69015.jpg - PSNR: 26.36 dB\n",
            "69020.jpg - PSNR: 24.64 dB\n",
            "69040.jpg - PSNR: 24.62 dB\n",
            "76053.jpg - PSNR: 25.37 dB\n",
            "78004.jpg - PSNR: 25.90 dB\n",
            "8023.jpg - PSNR: 25.71 dB\n",
            "85048.jpg - PSNR: 25.20 dB\n",
            "86000.jpg - PSNR: 25.86 dB\n",
            "86016.jpg - PSNR: 22.76 dB\n",
            "86068.jpg - PSNR: 24.69 dB\n",
            "87046.jpg - PSNR: 25.00 dB\n",
            "89072.jpg - PSNR: 25.10 dB\n",
            "97033.jpg - PSNR: 25.51 dB\n",
            "\n",
            "Average PSNR across all images: 25.61 dB\n",
            "101085.jpg - PSNR: 22.93 dB\n",
            "101087.jpg - PSNR: 24.65 dB\n",
            "102061.jpg - PSNR: 24.30 dB\n",
            "103070.jpg - PSNR: 24.20 dB\n",
            "105025.jpg - PSNR: 23.50 dB\n",
            "106024.jpg - PSNR: 25.42 dB\n",
            "108005.jpg - PSNR: 23.61 dB\n",
            "108070.jpg - PSNR: 23.10 dB\n",
            "108082.jpg - PSNR: 24.43 dB\n",
            "109053.jpg - PSNR: 23.53 dB\n",
            "119082.jpg - PSNR: 23.89 dB\n",
            "12084.jpg - PSNR: 23.18 dB\n",
            "123074.jpg - PSNR: 23.45 dB\n",
            "126007.jpg - PSNR: 24.72 dB\n",
            "130026.jpg - PSNR: 23.40 dB\n",
            "134035.jpg - PSNR: 23.29 dB\n",
            "14037.jpg - PSNR: 26.43 dB\n",
            "143090.jpg - PSNR: 26.47 dB\n",
            "145086.jpg - PSNR: 23.90 dB\n",
            "147091.jpg - PSNR: 25.57 dB\n",
            "148026.jpg - PSNR: 23.15 dB\n",
            "148089.jpg - PSNR: 23.32 dB\n",
            "156065.jpg - PSNR: 23.01 dB\n",
            "157055.jpg - PSNR: 23.36 dB\n",
            "159008.jpg - PSNR: 24.34 dB\n",
            "160068.jpg - PSNR: 23.86 dB\n",
            "16077.jpg - PSNR: 23.52 dB\n",
            "163085.jpg - PSNR: 23.59 dB\n",
            "167062.jpg - PSNR: 29.24 dB\n",
            "167083.jpg - PSNR: 22.20 dB\n",
            "170057.jpg - PSNR: 23.36 dB\n",
            "175032.jpg - PSNR: 21.67 dB\n",
            "175043.jpg - PSNR: 22.51 dB\n",
            "182053.jpg - PSNR: 23.40 dB\n",
            "189080.jpg - PSNR: 24.85 dB\n",
            "19021.jpg - PSNR: 23.82 dB\n",
            "196073.jpg - PSNR: 22.77 dB\n",
            "197017.jpg - PSNR: 23.56 dB\n",
            "208001.jpg - PSNR: 24.14 dB\n",
            "210088.jpg - PSNR: 24.15 dB\n",
            "21077.jpg - PSNR: 23.67 dB\n",
            "216081.jpg - PSNR: 23.95 dB\n",
            "219090.jpg - PSNR: 23.69 dB\n",
            "220075.jpg - PSNR: 24.37 dB\n",
            "223061.jpg - PSNR: 23.35 dB\n",
            "227092.jpg - PSNR: 24.22 dB\n",
            "229036.jpg - PSNR: 22.72 dB\n",
            "236037.jpg - PSNR: 22.49 dB\n",
            "24077.jpg - PSNR: 23.91 dB\n",
            "241004.jpg - PSNR: 26.03 dB\n",
            "241048.jpg - PSNR: 23.38 dB\n",
            "253027.jpg - PSNR: 23.22 dB\n",
            "253055.jpg - PSNR: 25.28 dB\n",
            "260058.jpg - PSNR: 23.79 dB\n",
            "271035.jpg - PSNR: 23.37 dB\n",
            "285079.jpg - PSNR: 23.39 dB\n",
            "291000.jpg - PSNR: 21.68 dB\n",
            "295087.jpg - PSNR: 24.23 dB\n",
            "296007.jpg - PSNR: 23.84 dB\n",
            "296059.jpg - PSNR: 24.02 dB\n",
            "299086.jpg - PSNR: 23.71 dB\n",
            "300091.jpg - PSNR: 24.91 dB\n",
            "302008.jpg - PSNR: 26.79 dB\n",
            "304034.jpg - PSNR: 22.78 dB\n",
            "304074.jpg - PSNR: 22.90 dB\n",
            "306005.jpg - PSNR: 24.88 dB\n",
            "3096.jpg - PSNR: 24.75 dB\n",
            "33039.jpg - PSNR: 22.12 dB\n",
            "351093.jpg - PSNR: 23.70 dB\n",
            "361010.jpg - PSNR: 24.18 dB\n",
            "37073.jpg - PSNR: 23.91 dB\n",
            "376043.jpg - PSNR: 22.73 dB\n",
            "38082.jpg - PSNR: 23.55 dB\n",
            "38092.jpg - PSNR: 23.42 dB\n",
            "385039.jpg - PSNR: 23.53 dB\n",
            "41033.jpg - PSNR: 24.00 dB\n",
            "41069.jpg - PSNR: 22.06 dB\n",
            "42012.jpg - PSNR: 24.00 dB\n",
            "42049.jpg - PSNR: 24.68 dB\n",
            "43074.jpg - PSNR: 24.26 dB\n",
            "45096.jpg - PSNR: 27.58 dB\n",
            "54082.jpg - PSNR: 23.33 dB\n",
            "55073.jpg - PSNR: 22.64 dB\n",
            "58060.jpg - PSNR: 23.30 dB\n",
            "62096.jpg - PSNR: 24.56 dB\n",
            "65033.jpg - PSNR: 23.48 dB\n",
            "66053.jpg - PSNR: 23.63 dB\n",
            "69015.jpg - PSNR: 24.43 dB\n",
            "69020.jpg - PSNR: 22.91 dB\n",
            "69040.jpg - PSNR: 22.81 dB\n",
            "76053.jpg - PSNR: 23.31 dB\n",
            "78004.jpg - PSNR: 24.01 dB\n",
            "8023.jpg - PSNR: 23.39 dB\n",
            "85048.jpg - PSNR: 23.32 dB\n",
            "86000.jpg - PSNR: 24.21 dB\n",
            "86016.jpg - PSNR: 21.28 dB\n",
            "86068.jpg - PSNR: 22.82 dB\n",
            "87046.jpg - PSNR: 23.02 dB\n",
            "89072.jpg - PSNR: 23.30 dB\n",
            "97033.jpg - PSNR: 23.93 dB\n",
            "\n",
            "Average PSNR across all images: 23.81 dB\n"
          ]
        }
      ]
    },
    {
      "cell_type": "markdown",
      "source": [
        "Grayscale (Blind)"
      ],
      "metadata": {
        "id": "Vm_PLawy5-Gs"
      },
      "id": "Vm_PLawy5-Gs"
    },
    {
      "cell_type": "code",
      "source": [
        "for sigma in [15, 25, 50]:\n",
        "  evaluate_model(\n",
        "    model_path=\"checkpoints/swinir_gray_blind.pth\",\n",
        "    clean_dir=\"datasets/BSD68/grayscale\",\n",
        "    noisy_dir=f\"datasets/BSD68/noisy_gray_sigma{sigma}\",\n",
        "    output_dir=f\"results/images/blind_gray_bsd68_sigma{sigma}\",\n",
        "    rgb=False\n",
        "  )"
      ],
      "metadata": {
        "id": "jgYzc7CB6AXv",
        "colab": {
          "base_uri": "https://localhost:8080/"
        },
        "outputId": "b8ded403-f699-46cc-c9d4-3f7e8283e5fd"
      },
      "id": "jgYzc7CB6AXv",
      "execution_count": null,
      "outputs": [
        {
          "output_type": "stream",
          "name": "stdout",
          "text": [
            "test001.png - PSNR: 27.83 dB\n",
            "test002.png - PSNR: 32.37 dB\n",
            "test003.png - PSNR: 32.09 dB\n",
            "test004.png - PSNR: 33.00 dB\n",
            "test005.png - PSNR: 29.91 dB\n",
            "test006.png - PSNR: 34.93 dB\n",
            "test007.png - PSNR: 31.12 dB\n",
            "test008.png - PSNR: 28.87 dB\n",
            "test009.png - PSNR: 31.27 dB\n",
            "test010.png - PSNR: 32.00 dB\n",
            "test011.png - PSNR: 31.12 dB\n",
            "test012.png - PSNR: 30.82 dB\n",
            "test013.png - PSNR: 31.85 dB\n",
            "test014.png - PSNR: 32.97 dB\n",
            "test015.png - PSNR: 29.72 dB\n",
            "test016.png - PSNR: 30.60 dB\n",
            "test017.png - PSNR: 34.63 dB\n",
            "test018.png - PSNR: 34.94 dB\n",
            "test019.png - PSNR: 29.86 dB\n",
            "test020.png - PSNR: 30.94 dB\n",
            "test021.png - PSNR: 29.04 dB\n",
            "test022.png - PSNR: 29.47 dB\n",
            "test023.png - PSNR: 31.45 dB\n",
            "test024.png - PSNR: 31.00 dB\n",
            "test025.png - PSNR: 31.99 dB\n",
            "test026.png - PSNR: 30.77 dB\n",
            "test027.png - PSNR: 32.25 dB\n",
            "test028.png - PSNR: 35.06 dB\n",
            "test029.png - PSNR: 26.46 dB\n",
            "test030.png - PSNR: 32.14 dB\n",
            "test031.png - PSNR: 27.04 dB\n",
            "test032.png - PSNR: 29.05 dB\n",
            "test033.png - PSNR: 30.17 dB\n",
            "test034.png - PSNR: 35.04 dB\n",
            "test035.png - PSNR: 30.17 dB\n",
            "test036.png - PSNR: 27.90 dB\n",
            "test037.png - PSNR: 30.20 dB\n",
            "test038.png - PSNR: 31.46 dB\n",
            "test039.png - PSNR: 35.31 dB\n",
            "test040.png - PSNR: 31.32 dB\n",
            "test041.png - PSNR: 29.92 dB\n",
            "test042.png - PSNR: 31.73 dB\n",
            "test043.png - PSNR: 32.77 dB\n",
            "test044.png - PSNR: 29.71 dB\n",
            "test045.png - PSNR: 35.16 dB\n",
            "test046.png - PSNR: 28.83 dB\n",
            "test047.png - PSNR: 29.02 dB\n",
            "test048.png - PSNR: 32.42 dB\n",
            "test049.png - PSNR: 33.02 dB\n",
            "test050.png - PSNR: 29.14 dB\n",
            "test051.png - PSNR: 30.72 dB\n",
            "test052.png - PSNR: 33.54 dB\n",
            "test053.png - PSNR: 32.62 dB\n",
            "test054.png - PSNR: 31.43 dB\n",
            "test055.png - PSNR: 29.93 dB\n",
            "test056.png - PSNR: 26.46 dB\n",
            "test057.png - PSNR: 30.31 dB\n",
            "test058.png - PSNR: 32.43 dB\n",
            "test059.png - PSNR: 31.81 dB\n",
            "test060.png - PSNR: 32.66 dB\n",
            "test061.png - PSNR: 32.09 dB\n",
            "test062.png - PSNR: 35.77 dB\n",
            "test063.png - PSNR: 29.03 dB\n",
            "test064.png - PSNR: 28.56 dB\n",
            "test065.png - PSNR: 31.08 dB\n",
            "test066.png - PSNR: 40.29 dB\n",
            "test067.png - PSNR: 27.20 dB\n",
            "test068.png - PSNR: 28.49 dB\n",
            "\n",
            "Average PSNR across all images: 31.24 dB\n",
            "test001.png - PSNR: 25.57 dB\n",
            "test002.png - PSNR: 29.91 dB\n",
            "test003.png - PSNR: 29.60 dB\n",
            "test004.png - PSNR: 30.48 dB\n",
            "test005.png - PSNR: 27.25 dB\n",
            "test006.png - PSNR: 32.57 dB\n",
            "test007.png - PSNR: 28.51 dB\n",
            "test008.png - PSNR: 26.07 dB\n",
            "test009.png - PSNR: 28.87 dB\n",
            "test010.png - PSNR: 29.60 dB\n",
            "test011.png - PSNR: 28.40 dB\n",
            "test012.png - PSNR: 28.23 dB\n",
            "test013.png - PSNR: 29.37 dB\n",
            "test014.png - PSNR: 30.56 dB\n",
            "test015.png - PSNR: 27.09 dB\n",
            "test016.png - PSNR: 27.78 dB\n",
            "test017.png - PSNR: 32.65 dB\n",
            "test018.png - PSNR: 32.61 dB\n",
            "test019.png - PSNR: 27.52 dB\n",
            "test020.png - PSNR: 28.40 dB\n",
            "test021.png - PSNR: 26.13 dB\n",
            "test022.png - PSNR: 26.86 dB\n",
            "test023.png - PSNR: 28.53 dB\n",
            "test024.png - PSNR: 28.36 dB\n",
            "test025.png - PSNR: 29.31 dB\n",
            "test026.png - PSNR: 28.39 dB\n",
            "test027.png - PSNR: 29.87 dB\n",
            "test028.png - PSNR: 32.86 dB\n",
            "test029.png - PSNR: 23.57 dB\n",
            "test030.png - PSNR: 29.70 dB\n",
            "test031.png - PSNR: 24.22 dB\n",
            "test032.png - PSNR: 26.39 dB\n",
            "test033.png - PSNR: 27.42 dB\n",
            "test034.png - PSNR: 33.06 dB\n",
            "test035.png - PSNR: 27.90 dB\n",
            "test036.png - PSNR: 26.98 dB\n",
            "test037.png - PSNR: 28.15 dB\n",
            "test038.png - PSNR: 28.94 dB\n",
            "test039.png - PSNR: 32.50 dB\n",
            "test040.png - PSNR: 29.08 dB\n",
            "test041.png - PSNR: 27.51 dB\n",
            "test042.png - PSNR: 29.30 dB\n",
            "test043.png - PSNR: 30.07 dB\n",
            "test044.png - PSNR: 27.02 dB\n",
            "test045.png - PSNR: 33.08 dB\n",
            "test046.png - PSNR: 26.15 dB\n",
            "test047.png - PSNR: 26.38 dB\n",
            "test048.png - PSNR: 29.65 dB\n",
            "test049.png - PSNR: 31.30 dB\n",
            "test050.png - PSNR: 26.64 dB\n",
            "test051.png - PSNR: 28.31 dB\n",
            "test052.png - PSNR: 31.66 dB\n",
            "test053.png - PSNR: 30.75 dB\n",
            "test054.png - PSNR: 28.93 dB\n",
            "test055.png - PSNR: 27.42 dB\n",
            "test056.png - PSNR: 23.33 dB\n",
            "test057.png - PSNR: 27.94 dB\n",
            "test058.png - PSNR: 30.68 dB\n",
            "test059.png - PSNR: 29.98 dB\n",
            "test060.png - PSNR: 30.71 dB\n",
            "test061.png - PSNR: 29.78 dB\n",
            "test062.png - PSNR: 33.26 dB\n",
            "test063.png - PSNR: 26.19 dB\n",
            "test064.png - PSNR: 26.41 dB\n",
            "test065.png - PSNR: 28.76 dB\n",
            "test066.png - PSNR: 37.76 dB\n",
            "test067.png - PSNR: 24.43 dB\n",
            "test068.png - PSNR: 25.56 dB\n",
            "\n",
            "Average PSNR across all images: 28.80 dB\n",
            "test001.png - PSNR: 22.90 dB\n",
            "test002.png - PSNR: 26.94 dB\n",
            "test003.png - PSNR: 26.48 dB\n",
            "test004.png - PSNR: 27.37 dB\n",
            "test005.png - PSNR: 24.52 dB\n",
            "test006.png - PSNR: 29.77 dB\n",
            "test007.png - PSNR: 25.23 dB\n",
            "test008.png - PSNR: 22.90 dB\n",
            "test009.png - PSNR: 25.90 dB\n",
            "test010.png - PSNR: 26.61 dB\n",
            "test011.png - PSNR: 24.86 dB\n",
            "test012.png - PSNR: 25.16 dB\n",
            "test013.png - PSNR: 26.45 dB\n",
            "test014.png - PSNR: 27.47 dB\n",
            "test015.png - PSNR: 24.08 dB\n",
            "test016.png - PSNR: 24.11 dB\n",
            "test017.png - PSNR: 30.06 dB\n",
            "test018.png - PSNR: 29.72 dB\n",
            "test019.png - PSNR: 25.02 dB\n",
            "test020.png - PSNR: 25.59 dB\n",
            "test021.png - PSNR: 22.48 dB\n",
            "test022.png - PSNR: 23.55 dB\n",
            "test023.png - PSNR: 25.10 dB\n",
            "test024.png - PSNR: 25.22 dB\n",
            "test025.png - PSNR: 26.12 dB\n",
            "test026.png - PSNR: 25.56 dB\n",
            "test027.png - PSNR: 26.82 dB\n",
            "test028.png - PSNR: 30.22 dB\n",
            "test029.png - PSNR: 20.64 dB\n",
            "test030.png - PSNR: 26.79 dB\n",
            "test031.png - PSNR: 21.03 dB\n",
            "test032.png - PSNR: 23.30 dB\n",
            "test033.png - PSNR: 24.42 dB\n",
            "test034.png - PSNR: 30.20 dB\n",
            "test035.png - PSNR: 25.21 dB\n",
            "test036.png - PSNR: 26.17 dB\n",
            "test037.png - PSNR: 25.99 dB\n",
            "test038.png - PSNR: 25.97 dB\n",
            "test039.png - PSNR: 28.55 dB\n",
            "test040.png - PSNR: 26.25 dB\n",
            "test041.png - PSNR: 24.75 dB\n",
            "test042.png - PSNR: 26.23 dB\n",
            "test043.png - PSNR: 26.67 dB\n",
            "test044.png - PSNR: 23.80 dB\n",
            "test045.png - PSNR: 30.62 dB\n",
            "test046.png - PSNR: 23.00 dB\n",
            "test047.png - PSNR: 23.46 dB\n",
            "test048.png - PSNR: 25.75 dB\n",
            "test049.png - PSNR: 29.11 dB\n",
            "test050.png - PSNR: 24.02 dB\n",
            "test051.png - PSNR: 25.10 dB\n",
            "test052.png - PSNR: 29.42 dB\n",
            "test053.png - PSNR: 28.84 dB\n",
            "test054.png - PSNR: 25.72 dB\n",
            "test055.png - PSNR: 24.40 dB\n",
            "test056.png - PSNR: 20.69 dB\n",
            "test057.png - PSNR: 25.58 dB\n",
            "test058.png - PSNR: 28.85 dB\n",
            "test059.png - PSNR: 28.01 dB\n",
            "test060.png - PSNR: 28.65 dB\n",
            "test061.png - PSNR: 27.23 dB\n",
            "test062.png - PSNR: 29.44 dB\n",
            "test063.png - PSNR: 23.12 dB\n",
            "test064.png - PSNR: 24.17 dB\n",
            "test065.png - PSNR: 25.99 dB\n",
            "test066.png - PSNR: 34.10 dB\n",
            "test067.png - PSNR: 21.31 dB\n",
            "test068.png - PSNR: 22.58 dB\n",
            "\n",
            "Average PSNR across all images: 25.90 dB\n"
          ]
        }
      ]
    }
  ],
  "metadata": {
    "accelerator": "GPU",
    "colab": {
      "gpuType": "A100",
      "provenance": [],
      "machine_shape": "hm"
    },
    "kernelspec": {
      "display_name": "Python 3",
      "name": "python3"
    },
    "language_info": {
      "name": "python"
    }
  },
  "nbformat": 4,
  "nbformat_minor": 5
}